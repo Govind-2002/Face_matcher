{
  "cells": [
    {
      "cell_type": "code",
      "execution_count": 1,
      "metadata": {
        "colab": {
          "base_uri": "https://localhost:8080/"
        },
        "id": "CUkOU7_8QNO7",
        "outputId": "646182cb-7292-42ba-9bf0-4562f8113122"
      },
      "outputs": [
        {
          "name": "stdout",
          "output_type": "stream",
          "text": [
            "Collecting pyngrok\n",
            "  Downloading pyngrok-7.2.9-py3-none-any.whl.metadata (9.3 kB)\n",
            "Requirement already satisfied: flask in c:\\python312\\lib\\site-packages (3.0.3)\n",
            "Requirement already satisfied: PyYAML>=5.1 in c:\\python312\\lib\\site-packages (from pyngrok) (6.0.2)\n",
            "Requirement already satisfied: Werkzeug>=3.0.0 in c:\\python312\\lib\\site-packages (from flask) (3.0.2)\n",
            "Requirement already satisfied: Jinja2>=3.1.2 in c:\\python312\\lib\\site-packages (from flask) (3.1.3)\n",
            "Requirement already satisfied: itsdangerous>=2.1.2 in c:\\python312\\lib\\site-packages (from flask) (2.1.2)\n",
            "Requirement already satisfied: click>=8.1.3 in c:\\python312\\lib\\site-packages (from flask) (8.1.7)\n",
            "Requirement already satisfied: blinker>=1.6.2 in c:\\python312\\lib\\site-packages (from flask) (1.7.0)\n",
            "Requirement already satisfied: colorama in c:\\python312\\lib\\site-packages (from click>=8.1.3->flask) (0.4.6)\n",
            "Requirement already satisfied: MarkupSafe>=2.0 in c:\\python312\\lib\\site-packages (from Jinja2>=3.1.2->flask) (2.1.5)\n",
            "Downloading pyngrok-7.2.9-py3-none-any.whl (25 kB)\n",
            "Installing collected packages: pyngrok\n"
          ]
        },
        {
          "name": "stderr",
          "output_type": "stream",
          "text": [
            "  WARNING: Failed to write executable - trying to use .deleteme logic\n",
            "ERROR: Could not install packages due to an OSError: [WinError 2] The system cannot find the file specified: 'C:\\\\Python312\\\\Scripts\\\\ngrok.exe' -> 'C:\\\\Python312\\\\Scripts\\\\ngrok.exe.deleteme'\n",
            "\n"
          ]
        }
      ],
      "source": [
        "!pip install pyngrok flask"
      ]
    },
    {
      "cell_type": "code",
      "execution_count": 2,
      "metadata": {
        "colab": {
          "base_uri": "https://localhost:8080/"
        },
        "id": "yyONjwhoRmIS",
        "outputId": "b17c9a6c-470d-4f83-9489-4fbb3e031e9c"
      },
      "outputs": [
        {
          "name": "stderr",
          "output_type": "stream",
          "text": [
            "'ngrok' is not recognized as an internal or external command,\n",
            "operable program or batch file.\n"
          ]
        }
      ],
      "source": [
        "!ngrok config add-authtoken 2xt4V84M4SbHAd0T74pVGquOc9q_4JYuSLTwdtSBTB9Rzgqfp"
      ]
    },
    {
      "cell_type": "code",
      "execution_count": 3,
      "metadata": {
        "colab": {
          "base_uri": "https://localhost:8080/"
        },
        "id": "2GggkTmLbwar",
        "outputId": "a0f661ee-30e9-4c9a-a768-a63e19d28878"
      },
      "outputs": [
        {
          "name": "stdout",
          "output_type": "stream",
          "text": [
            "Requirement already satisfied: flask in c:\\python312\\lib\\site-packages (3.0.3)\n",
            "Requirement already satisfied: face_recognition in c:\\python312\\lib\\site-packages (1.3.0)\n",
            "Requirement already satisfied: opencv-python in c:\\python312\\lib\\site-packages (4.11.0.86)\n",
            "Requirement already satisfied: pandas in c:\\python312\\lib\\site-packages (2.1.4)\n",
            "Requirement already satisfied: Werkzeug>=3.0.0 in c:\\python312\\lib\\site-packages (from flask) (3.0.2)\n",
            "Requirement already satisfied: Jinja2>=3.1.2 in c:\\python312\\lib\\site-packages (from flask) (3.1.3)\n",
            "Requirement already satisfied: itsdangerous>=2.1.2 in c:\\python312\\lib\\site-packages (from flask) (2.1.2)\n",
            "Requirement already satisfied: click>=8.1.3 in c:\\python312\\lib\\site-packages (from flask) (8.1.7)\n",
            "Requirement already satisfied: blinker>=1.6.2 in c:\\python312\\lib\\site-packages (from flask) (1.7.0)\n",
            "Requirement already satisfied: face-recognition-models>=0.3.0 in c:\\python312\\lib\\site-packages (from face_recognition) (0.3.0)\n",
            "Requirement already satisfied: dlib>=19.7 in c:\\python312\\lib\\site-packages (from face_recognition) (19.24.6)\n",
            "Requirement already satisfied: numpy in c:\\python312\\lib\\site-packages (from face_recognition) (1.26.4)\n",
            "Requirement already satisfied: Pillow in c:\\python312\\lib\\site-packages (from face_recognition) (10.4.0)\n",
            "Requirement already satisfied: python-dateutil>=2.8.2 in c:\\python312\\lib\\site-packages (from pandas) (2.9.0.post0)\n",
            "Requirement already satisfied: pytz>=2020.1 in c:\\python312\\lib\\site-packages (from pandas) (2025.1)\n",
            "Requirement already satisfied: tzdata>=2022.1 in c:\\python312\\lib\\site-packages (from pandas) (2025.1)\n",
            "Requirement already satisfied: colorama in c:\\python312\\lib\\site-packages (from click>=8.1.3->flask) (0.4.6)\n",
            "Requirement already satisfied: MarkupSafe>=2.0 in c:\\python312\\lib\\site-packages (from Jinja2>=3.1.2->flask) (2.1.5)\n",
            "Requirement already satisfied: six>=1.5 in c:\\python312\\lib\\site-packages (from python-dateutil>=2.8.2->pandas) (1.17.0)\n",
            "Note: you may need to restart the kernel to use updated packages.\n"
          ]
        }
      ],
      "source": [
        "pip install flask face_recognition opencv-python pandas"
      ]
    },
    {
      "cell_type": "code",
      "execution_count": 4,
      "metadata": {
        "colab": {
          "base_uri": "https://localhost:8080/"
        },
        "id": "dv53yQtAYFQ8",
        "outputId": "35a32b1f-e716-437e-f46a-92546d12c511"
      },
      "outputs": [
        {
          "name": "stdout",
          "output_type": "stream",
          "text": [
            "Requirement already satisfied: flask-cors in c:\\python312\\lib\\site-packages (5.0.1)\n",
            "Requirement already satisfied: flask>=0.9 in c:\\python312\\lib\\site-packages (from flask-cors) (3.0.3)\n",
            "Requirement already satisfied: Werkzeug>=0.7 in c:\\python312\\lib\\site-packages (from flask-cors) (3.0.2)\n",
            "Requirement already satisfied: Jinja2>=3.1.2 in c:\\python312\\lib\\site-packages (from flask>=0.9->flask-cors) (3.1.3)\n",
            "Requirement already satisfied: itsdangerous>=2.1.2 in c:\\python312\\lib\\site-packages (from flask>=0.9->flask-cors) (2.1.2)\n",
            "Requirement already satisfied: click>=8.1.3 in c:\\python312\\lib\\site-packages (from flask>=0.9->flask-cors) (8.1.7)\n",
            "Requirement already satisfied: blinker>=1.6.2 in c:\\python312\\lib\\site-packages (from flask>=0.9->flask-cors) (1.7.0)\n",
            "Requirement already satisfied: MarkupSafe>=2.1.1 in c:\\python312\\lib\\site-packages (from Werkzeug>=0.7->flask-cors) (2.1.5)\n",
            "Requirement already satisfied: colorama in c:\\python312\\lib\\site-packages (from click>=8.1.3->flask>=0.9->flask-cors) (0.4.6)\n"
          ]
        }
      ],
      "source": [
        "!pip install flask-cors"
      ]
    },
    {
      "cell_type": "code",
      "execution_count": 5,
      "metadata": {
        "colab": {
          "base_uri": "https://localhost:8080/"
        },
        "id": "xPcdwdibefX1",
        "outputId": "4bbe0d59-4b8e-4b83-e50b-c97aadad4da3"
      },
      "outputs": [
        {
          "name": "stdout",
          "output_type": "stream",
          "text": [
            "Collecting flask-ngrok\n",
            "  Downloading flask_ngrok-0.0.25-py3-none-any.whl.metadata (1.8 kB)\n",
            "Requirement already satisfied: Flask>=0.8 in c:\\python312\\lib\\site-packages (from flask-ngrok) (3.0.3)\n",
            "Requirement already satisfied: requests in c:\\python312\\lib\\site-packages (from flask-ngrok) (2.32.3)\n",
            "Requirement already satisfied: Werkzeug>=3.0.0 in c:\\python312\\lib\\site-packages (from Flask>=0.8->flask-ngrok) (3.0.2)\n",
            "Requirement already satisfied: Jinja2>=3.1.2 in c:\\python312\\lib\\site-packages (from Flask>=0.8->flask-ngrok) (3.1.3)\n",
            "Requirement already satisfied: itsdangerous>=2.1.2 in c:\\python312\\lib\\site-packages (from Flask>=0.8->flask-ngrok) (2.1.2)\n",
            "Requirement already satisfied: click>=8.1.3 in c:\\python312\\lib\\site-packages (from Flask>=0.8->flask-ngrok) (8.1.7)\n",
            "Requirement already satisfied: blinker>=1.6.2 in c:\\python312\\lib\\site-packages (from Flask>=0.8->flask-ngrok) (1.7.0)\n",
            "Requirement already satisfied: charset-normalizer<4,>=2 in c:\\python312\\lib\\site-packages (from requests->flask-ngrok) (3.4.1)\n",
            "Requirement already satisfied: idna<4,>=2.5 in c:\\python312\\lib\\site-packages (from requests->flask-ngrok) (3.10)\n",
            "Requirement already satisfied: urllib3<3,>=1.21.1 in c:\\python312\\lib\\site-packages (from requests->flask-ngrok) (2.3.0)\n",
            "Requirement already satisfied: certifi>=2017.4.17 in c:\\python312\\lib\\site-packages (from requests->flask-ngrok) (2025.1.31)\n",
            "Requirement already satisfied: colorama in c:\\python312\\lib\\site-packages (from click>=8.1.3->Flask>=0.8->flask-ngrok) (0.4.6)\n",
            "Requirement already satisfied: MarkupSafe>=2.0 in c:\\python312\\lib\\site-packages (from Jinja2>=3.1.2->Flask>=0.8->flask-ngrok) (2.1.5)\n",
            "Downloading flask_ngrok-0.0.25-py3-none-any.whl (3.1 kB)\n",
            "Installing collected packages: flask-ngrok\n",
            "Successfully installed flask-ngrok-0.0.25\n"
          ]
        }
      ],
      "source": [
        "!pip install flask-ngrok"
      ]
    },
    {
      "cell_type": "code",
      "execution_count": 6,
      "metadata": {
        "colab": {
          "base_uri": "https://localhost:8080/"
        },
        "id": "aGdm9cbcjoJw",
        "outputId": "acda36a1-cc10-4fea-f9b0-4ec4b7ea1f27"
      },
      "outputs": [
        {
          "name": "stderr",
          "output_type": "stream",
          "text": [
            "'apt-get' is not recognized as an internal or external command,\n",
            "operable program or batch file.\n",
            "'apt-get' is not recognized as an internal or external command,\n",
            "operable program or batch file.\n"
          ]
        }
      ],
      "source": [
        "!apt-get update\n",
        "!apt-get install -y build-essential cmake libopenblas-dev liblapack-dev libx11-dev libgtk-3-dev libboost-python-dev\n"
      ]
    },
    {
      "cell_type": "code",
      "execution_count": 7,
      "metadata": {
        "colab": {
          "base_uri": "https://localhost:8080/"
        },
        "id": "fO-aWsbxpsFy",
        "outputId": "6e645f9d-40e7-42fc-869e-6d392cbeec22"
      },
      "outputs": [
        {
          "name": "stdout",
          "output_type": "stream",
          "text": [
            "Requirement already satisfied: pip in c:\\python312\\lib\\site-packages (24.0)\n",
            "Collecting pip\n",
            "  Downloading pip-25.1.1-py3-none-any.whl.metadata (3.6 kB)\n",
            "Requirement already satisfied: setuptools in c:\\python312\\lib\\site-packages (78.1.0)\n",
            "Collecting setuptools\n",
            "  Downloading setuptools-80.9.0-py3-none-any.whl.metadata (6.6 kB)\n",
            "Requirement already satisfied: wheel in c:\\python312\\lib\\site-packages (0.45.1)\n",
            "Downloading pip-25.1.1-py3-none-any.whl (1.8 MB)\n",
            "   ---------------------------------------- 0.0/1.8 MB ? eta -:--:--\n",
            "    --------------------------------------- 0.0/1.8 MB 1.4 MB/s eta 0:00:02\n",
            "   ------ --------------------------------- 0.3/1.8 MB 4.3 MB/s eta 0:00:01\n",
            "   ---------------------------------------  1.8/1.8 MB 19.4 MB/s eta 0:00:01\n",
            "   ---------------------------------------- 1.8/1.8 MB 16.7 MB/s eta 0:00:00\n",
            "Downloading setuptools-80.9.0-py3-none-any.whl (1.2 MB)\n",
            "   ---------------------------------------- 0.0/1.2 MB ? eta -:--:--\n",
            "   ---------------------------------------- 1.2/1.2 MB 74.5 MB/s eta 0:00:00\n"
          ]
        },
        {
          "name": "stderr",
          "output_type": "stream",
          "text": [
            "ERROR: To modify pip, please run the following command:\n",
            "C:\\Python312\\python.exe -m pip install --upgrade pip setuptools wheel\n"
          ]
        }
      ],
      "source": [
        "!pip install --upgrade pip setuptools wheel\n"
      ]
    },
    {
      "cell_type": "code",
      "execution_count": 8,
      "metadata": {
        "colab": {
          "base_uri": "https://localhost:8080/"
        },
        "id": "EJgDa9TRpxFW",
        "outputId": "b955c2b6-6e6d-4417-8f23-1f79d822b0df"
      },
      "outputs": [
        {
          "name": "stdout",
          "output_type": "stream",
          "text": [
            "Requirement already satisfied: deepface in c:\\python312\\lib\\site-packages (0.0.93)\n",
            "Requirement already satisfied: requests>=2.27.1 in c:\\python312\\lib\\site-packages (from deepface) (2.32.3)\n",
            "Requirement already satisfied: numpy>=1.14.0 in c:\\python312\\lib\\site-packages (from deepface) (1.26.4)\n",
            "Requirement already satisfied: pandas>=0.23.4 in c:\\python312\\lib\\site-packages (from deepface) (2.1.4)\n",
            "Requirement already satisfied: gdown>=3.10.1 in c:\\python312\\lib\\site-packages (from deepface) (5.2.0)\n",
            "Requirement already satisfied: tqdm>=4.30.0 in c:\\python312\\lib\\site-packages (from deepface) (4.67.1)\n",
            "Requirement already satisfied: Pillow>=5.2.0 in c:\\python312\\lib\\site-packages (from deepface) (10.4.0)\n",
            "Requirement already satisfied: opencv-python>=4.5.5.64 in c:\\python312\\lib\\site-packages (from deepface) (4.11.0.86)\n",
            "Requirement already satisfied: tensorflow>=1.9.0 in c:\\python312\\lib\\site-packages (from deepface) (2.19.0)\n",
            "Requirement already satisfied: keras>=2.2.0 in c:\\python312\\lib\\site-packages (from deepface) (3.10.0)\n",
            "Requirement already satisfied: Flask>=1.1.2 in c:\\python312\\lib\\site-packages (from deepface) (3.0.3)\n",
            "Requirement already satisfied: flask-cors>=4.0.1 in c:\\python312\\lib\\site-packages (from deepface) (5.0.1)\n",
            "Requirement already satisfied: mtcnn>=0.1.0 in c:\\python312\\lib\\site-packages (from deepface) (1.0.0)\n",
            "Requirement already satisfied: retina-face>=0.0.1 in c:\\python312\\lib\\site-packages (from deepface) (0.0.17)\n",
            "Requirement already satisfied: fire>=0.4.0 in c:\\python312\\lib\\site-packages (from deepface) (0.7.0)\n",
            "Requirement already satisfied: gunicorn>=20.1.0 in c:\\python312\\lib\\site-packages (from deepface) (23.0.0)\n",
            "Requirement already satisfied: termcolor in c:\\python312\\lib\\site-packages (from fire>=0.4.0->deepface) (3.1.0)\n",
            "Requirement already satisfied: Werkzeug>=3.0.0 in c:\\python312\\lib\\site-packages (from Flask>=1.1.2->deepface) (3.0.2)\n",
            "Requirement already satisfied: Jinja2>=3.1.2 in c:\\python312\\lib\\site-packages (from Flask>=1.1.2->deepface) (3.1.3)\n",
            "Requirement already satisfied: itsdangerous>=2.1.2 in c:\\python312\\lib\\site-packages (from Flask>=1.1.2->deepface) (2.1.2)\n",
            "Requirement already satisfied: click>=8.1.3 in c:\\python312\\lib\\site-packages (from Flask>=1.1.2->deepface) (8.1.7)\n",
            "Requirement already satisfied: blinker>=1.6.2 in c:\\python312\\lib\\site-packages (from Flask>=1.1.2->deepface) (1.7.0)\n",
            "Requirement already satisfied: beautifulsoup4 in c:\\python312\\lib\\site-packages (from gdown>=3.10.1->deepface) (4.13.3)\n",
            "Requirement already satisfied: filelock in c:\\python312\\lib\\site-packages (from gdown>=3.10.1->deepface) (3.17.0)\n",
            "Requirement already satisfied: packaging in c:\\python312\\lib\\site-packages (from gunicorn>=20.1.0->deepface) (23.2)\n",
            "Requirement already satisfied: absl-py in c:\\python312\\lib\\site-packages (from keras>=2.2.0->deepface) (2.1.0)\n",
            "Requirement already satisfied: rich in c:\\python312\\lib\\site-packages (from keras>=2.2.0->deepface) (13.9.4)\n",
            "Requirement already satisfied: namex in c:\\python312\\lib\\site-packages (from keras>=2.2.0->deepface) (0.0.9)\n",
            "Requirement already satisfied: h5py in c:\\python312\\lib\\site-packages (from keras>=2.2.0->deepface) (3.13.0)\n",
            "Requirement already satisfied: optree in c:\\python312\\lib\\site-packages (from keras>=2.2.0->deepface) (0.15.0)\n",
            "Requirement already satisfied: ml-dtypes in c:\\python312\\lib\\site-packages (from keras>=2.2.0->deepface) (0.5.1)\n",
            "Requirement already satisfied: joblib>=1.4.2 in c:\\python312\\lib\\site-packages (from mtcnn>=0.1.0->deepface) (1.4.2)\n",
            "Requirement already satisfied: lz4>=4.3.3 in c:\\python312\\lib\\site-packages (from mtcnn>=0.1.0->deepface) (4.4.4)\n",
            "Requirement already satisfied: python-dateutil>=2.8.2 in c:\\python312\\lib\\site-packages (from pandas>=0.23.4->deepface) (2.9.0.post0)\n",
            "Requirement already satisfied: pytz>=2020.1 in c:\\python312\\lib\\site-packages (from pandas>=0.23.4->deepface) (2025.1)\n",
            "Requirement already satisfied: tzdata>=2022.1 in c:\\python312\\lib\\site-packages (from pandas>=0.23.4->deepface) (2025.1)\n",
            "Requirement already satisfied: charset-normalizer<4,>=2 in c:\\python312\\lib\\site-packages (from requests>=2.27.1->deepface) (3.4.1)\n",
            "Requirement already satisfied: idna<4,>=2.5 in c:\\python312\\lib\\site-packages (from requests>=2.27.1->deepface) (3.10)\n",
            "Requirement already satisfied: urllib3<3,>=1.21.1 in c:\\python312\\lib\\site-packages (from requests>=2.27.1->deepface) (2.3.0)\n",
            "Requirement already satisfied: certifi>=2017.4.17 in c:\\python312\\lib\\site-packages (from requests>=2.27.1->deepface) (2025.1.31)\n",
            "Requirement already satisfied: astunparse>=1.6.0 in c:\\python312\\lib\\site-packages (from tensorflow>=1.9.0->deepface) (1.6.3)\n",
            "Requirement already satisfied: flatbuffers>=24.3.25 in c:\\python312\\lib\\site-packages (from tensorflow>=1.9.0->deepface) (25.2.10)\n",
            "Requirement already satisfied: gast!=0.5.0,!=0.5.1,!=0.5.2,>=0.2.1 in c:\\python312\\lib\\site-packages (from tensorflow>=1.9.0->deepface) (0.6.0)\n",
            "Requirement already satisfied: google-pasta>=0.1.1 in c:\\python312\\lib\\site-packages (from tensorflow>=1.9.0->deepface) (0.2.0)\n",
            "Requirement already satisfied: libclang>=13.0.0 in c:\\python312\\lib\\site-packages (from tensorflow>=1.9.0->deepface) (18.1.1)\n",
            "Requirement already satisfied: opt-einsum>=2.3.2 in c:\\python312\\lib\\site-packages (from tensorflow>=1.9.0->deepface) (3.4.0)\n",
            "Requirement already satisfied: protobuf!=4.21.0,!=4.21.1,!=4.21.2,!=4.21.3,!=4.21.4,!=4.21.5,<6.0.0dev,>=3.20.3 in c:\\python312\\lib\\site-packages (from tensorflow>=1.9.0->deepface) (4.25.6)\n",
            "Requirement already satisfied: setuptools in c:\\python312\\lib\\site-packages (from tensorflow>=1.9.0->deepface) (78.1.0)\n",
            "Requirement already satisfied: six>=1.12.0 in c:\\python312\\lib\\site-packages (from tensorflow>=1.9.0->deepface) (1.17.0)\n",
            "Requirement already satisfied: typing-extensions>=3.6.6 in c:\\python312\\lib\\site-packages (from tensorflow>=1.9.0->deepface) (4.13.0)\n",
            "Requirement already satisfied: wrapt>=1.11.0 in c:\\python312\\lib\\site-packages (from tensorflow>=1.9.0->deepface) (1.17.2)\n",
            "Requirement already satisfied: grpcio<2.0,>=1.24.3 in c:\\python312\\lib\\site-packages (from tensorflow>=1.9.0->deepface) (1.71.0)\n",
            "Requirement already satisfied: tensorboard~=2.19.0 in c:\\python312\\lib\\site-packages (from tensorflow>=1.9.0->deepface) (2.19.0)\n",
            "Requirement already satisfied: colorama in c:\\python312\\lib\\site-packages (from tqdm>=4.30.0->deepface) (0.4.6)\n",
            "Requirement already satisfied: wheel<1.0,>=0.23.0 in c:\\python312\\lib\\site-packages (from astunparse>=1.6.0->tensorflow>=1.9.0->deepface) (0.45.1)\n",
            "Requirement already satisfied: MarkupSafe>=2.0 in c:\\python312\\lib\\site-packages (from Jinja2>=3.1.2->Flask>=1.1.2->deepface) (2.1.5)\n",
            "Requirement already satisfied: markdown>=2.6.8 in c:\\python312\\lib\\site-packages (from tensorboard~=2.19.0->tensorflow>=1.9.0->deepface) (3.8)\n",
            "Requirement already satisfied: tensorboard-data-server<0.8.0,>=0.7.0 in c:\\python312\\lib\\site-packages (from tensorboard~=2.19.0->tensorflow>=1.9.0->deepface) (0.7.2)\n",
            "Requirement already satisfied: soupsieve>1.2 in c:\\python312\\lib\\site-packages (from beautifulsoup4->gdown>=3.10.1->deepface) (2.6)\n",
            "Requirement already satisfied: PySocks!=1.5.7,>=1.5.6 in c:\\python312\\lib\\site-packages (from requests[socks]->gdown>=3.10.1->deepface) (1.7.1)\n",
            "Requirement already satisfied: markdown-it-py>=2.2.0 in c:\\python312\\lib\\site-packages (from rich->keras>=2.2.0->deepface) (3.0.0)\n",
            "Requirement already satisfied: pygments<3.0.0,>=2.13.0 in c:\\python312\\lib\\site-packages (from rich->keras>=2.2.0->deepface) (2.19.1)\n",
            "Requirement already satisfied: mdurl~=0.1 in c:\\python312\\lib\\site-packages (from markdown-it-py>=2.2.0->rich->keras>=2.2.0->deepface) (0.1.2)\n"
          ]
        }
      ],
      "source": [
        "!pip install deepface\n"
      ]
    },
    {
      "cell_type": "code",
      "execution_count": 10,
      "metadata": {
        "colab": {
          "base_uri": "https://localhost:8080/"
        },
        "id": "N76ux6aiPFOp",
        "outputId": "502a3988-5904-4718-c199-8cef841805b6"
      },
      "outputs": [
        {
          "name": "stdout",
          "output_type": "stream",
          "text": [
            "Overwriting app.py\n"
          ]
        }
      ],
      "source": [
        "%%writefile app.py\n",
        "# app.py\n",
        "from flask import Flask, request, jsonify\n",
        "from flask_cors import CORS\n",
        "from pyngrok import ngrok\n",
        "import os\n",
        "import tempfile\n",
        "import cv2\n",
        "import numpy as np\n",
        "import pandas as pd\n",
        "from io import BytesIO\n",
        "import base64\n",
        "from deepface import DeepFace\n",
        "\n",
        "app = Flask(__name__)\n",
        "CORS(app)\n",
        "\n",
        "# Set up ngrok tunnel\n",
        "public_url = ngrok.connect(5000)\n",
        "print(f\" * ngrok tunnel available at: {public_url}\")\n",
        "\n",
        "THRESHOLD = 0.50  # Cosine distance threshold for face similarity\n",
        "\n",
        "def detect_and_encode_faces(img_path):\n",
        "    face_embeddings = []\n",
        "    face_regions = []\n",
        "\n",
        "    try:\n",
        "        representations = DeepFace.represent(\n",
        "            img_path=img_path,\n",
        "            model_name='Facenet',\n",
        "            enforce_detection=False,\n",
        "            detector_backend='opencv'\n",
        "        )\n",
        "    except Exception as e:\n",
        "        print(f\"[ERROR] DeepFace.represent failed: {e}\")\n",
        "        return [], []\n",
        "\n",
        "    # Ensure representations is a list of dictionaries\n",
        "    if isinstance(representations, dict):\n",
        "        representations = [representations]\n",
        "    elif not isinstance(representations, list):\n",
        "        print(f\"[ERROR] Unexpected type for representations: {type(representations)}\")\n",
        "        return [], []\n",
        "\n",
        "    for face in representations:\n",
        "        if isinstance(face, dict) and 'embedding' in face and 'facial_area' in face:\n",
        "            embedding = np.array(face['embedding'], dtype=np.float32)\n",
        "            norm = np.linalg.norm(embedding)\n",
        "            print(f\"Embedding norm: {norm}\")\n",
        "            if norm > 1e-6:\n",
        "                region = face['facial_area']\n",
        "                face_embeddings.append(embedding)\n",
        "                face_regions.append(region)\n",
        "            else:\n",
        "                print(\"[WARN] Skipped zero-norm embedding\")\n",
        "        else:\n",
        "            print(f\"[WARN] Unexpected face format: {face}\")\n",
        "\n",
        "    return face_embeddings, face_regions\n",
        "\n",
        "def annotate_image(image_path, regions, face_ids):\n",
        "    img = cv2.imread(image_path)\n",
        "    for region, face_id in zip(regions, face_ids):\n",
        "        x, y, w, h = region['x'], region['y'], region['w'], region['h']\n",
        "        cv2.rectangle(img, (x, y), (x + w, y + h), (0, 255, 0), 2)\n",
        "        cv2.putText(img, f\"ID: {face_id}\", (x, y - 10),\n",
        "                    cv2.FONT_HERSHEY_SIMPLEX, 0.6, (0, 255, 0), 2)\n",
        "    success, buffer = cv2.imencode(\".jpg\", img)\n",
        "    return buffer.tobytes() if success else None\n",
        "\n",
        "def cosine_similarity(vec1, vec2):\n",
        "    vec1 = np.array(vec1, dtype=np.float32)\n",
        "    vec2 = np.array(vec2, dtype=np.float32)\n",
        "    norm1 = np.linalg.norm(vec1)\n",
        "    norm2 = np.linalg.norm(vec2)\n",
        "    if norm1 == 0 or norm2 == 0:\n",
        "        return float('nan')\n",
        "    return float(np.dot(vec1, vec2) / (norm1 * norm2))\n",
        "\n",
        "@app.route('/compare', methods=['POST'])\n",
        "def compare_faces():\n",
        "    files = request.files.getlist('images')\n",
        "    if len(files) < 2:\n",
        "        return jsonify({'error': 'Please upload at least two images'}), 400\n",
        "\n",
        "    all_embeddings = []\n",
        "    all_regions = []\n",
        "    all_paths = []\n",
        "    face_index_map = []\n",
        "\n",
        "    for img_idx, file in enumerate(files):\n",
        "        with tempfile.NamedTemporaryFile(delete=False, suffix=\".jpg\") as tmp:\n",
        "            file.save(tmp.name)\n",
        "            embeddings, regions = detect_and_encode_faces(tmp.name)\n",
        "            all_embeddings.extend(embeddings)\n",
        "            all_regions.append(regions)\n",
        "            all_paths.append(tmp.name)\n",
        "            face_index_map.extend([(img_idx, i) for i in range(len(embeddings))])\n",
        "\n",
        "    face_ids = [-1] * len(all_embeddings)\n",
        "    current_id = 0\n",
        "    for i in range(len(all_embeddings)):\n",
        "        if face_ids[i] != -1:\n",
        "            continue\n",
        "        similarity = cosine_similarity(all_embeddings[i], all_embeddings[i])\n",
        "        if np.isnan(similarity) or similarity == 0:\n",
        "            continue\n",
        "        face_ids[i] = current_id\n",
        "        for j in range(i + 1, len(all_embeddings)):\n",
        "            if face_ids[j] == -1:\n",
        "                similarity = cosine_similarity(all_embeddings[i], all_embeddings[j])\n",
        "                if not np.isnan(similarity) and similarity > (1 - THRESHOLD):\n",
        "                    face_ids[j] = current_id\n",
        "        current_id += 1\n",
        "\n",
        "    # Annotate and encode each image\n",
        "    annotated_b64 = []\n",
        "    idx = 0\n",
        "    for img_idx, regions in enumerate(all_regions):\n",
        "        face_ids_img = face_ids[idx:idx+len(regions)]\n",
        "        idx += len(regions)\n",
        "        annotated_bytes = annotate_image(all_paths[img_idx], regions, face_ids_img)\n",
        "        if annotated_bytes:\n",
        "            annotated_b64.append(base64.b64encode(annotated_bytes).decode())\n",
        "        os.remove(all_paths[img_idx])  # Clean up\n",
        "\n",
        "    # Prepare CSV match report\n",
        "    rows = []\n",
        "    for i, (img_i, face_i) in enumerate(face_index_map):\n",
        "        id_i = face_ids[i]\n",
        "        for j, (img_j, face_j) in enumerate(face_index_map):\n",
        "            similarity = cosine_similarity(all_embeddings[i], all_embeddings[j])\n",
        "            rows.append({\n",
        "                'Face ID (Image)': f\"{id_i} (Image {img_i + 1})\",\n",
        "                'Matched With (Image)': f\"{face_ids[j]} (Image {img_j + 1})\" if i != j else '—',\n",
        "                'Cosine Similarity': round(similarity, 4) if not np.isnan(similarity) else 'NaN',\n",
        "                'Match': \"Yes\" if face_ids[i] == face_ids[j] and i != j else \"No\"\n",
        "            })\n",
        "\n",
        "    df = pd.DataFrame(rows)\n",
        "    csv_buffer = BytesIO()\n",
        "    df.to_csv(csv_buffer, index=False)\n",
        "    csv_str = csv_buffer.getvalue().decode()\n",
        "\n",
        "    return jsonify({\n",
        "        'annotated_images': annotated_b64,\n",
        "        'match_report': df.to_dict(orient='records'),\n",
        "        'csv_report': csv_str\n",
        "    })\n",
        "\n",
        "if __name__ == \"__main__\":\n",
        "    app.run()\n"
      ]
    },
    {
      "cell_type": "code",
      "execution_count": 11,
      "metadata": {
        "colab": {
          "base_uri": "https://localhost:8080/"
        },
        "id": "VsDceWqCP0lr",
        "outputId": "03a35efd-4b61-4d3b-d7df-4fec691b96e1"
      },
      "outputs": [
        {
          "name": "stdout",
          "output_type": "stream",
          "text": [
            "Downloading ngrok ...\n",
            "Downloading ngrok: 0%\n",
            "Downloading ngrok: 1%\n",
            "Downloading ngrok: 2%\n",
            "Downloading ngrok: 3%\n",
            "Downloading ngrok: 4%\n",
            "Downloading ngrok: 5%\n",
            "Downloading ngrok: 6%\n",
            "Downloading ngrok: 7%\n",
            "Downloading ngrok: 8%\n",
            "Downloading ngrok: 9%\n",
            "Downloading ngrok: 10%\n",
            "Downloading ngrok: 11%\n",
            "Downloading ngrok: 12%\n",
            "Downloading ngrok: 13%\n",
            "Downloading ngrok: 14%\n",
            "Downloading ngrok: 15%\n",
            "Downloading ngrok: 16%\n",
            "Downloading ngrok: 17%\n",
            "Downloading ngrok: 18%\n",
            "Downloading ngrok: 19%\n",
            "Downloading ngrok: 20%\n",
            "Downloading ngrok: 21%\n",
            "Downloading ngrok: 22%\n",
            "Downloading ngrok: 23%\n",
            "Downloading ngrok: 24%\n",
            "Downloading ngrok: 25%\n",
            "Downloading ngrok: 26%\n",
            "Downloading ngrok: 27%\n",
            "Downloading ngrok: 28%\n",
            "Downloading ngrok: 29%\n",
            "Downloading ngrok: 30%\n",
            "Downloading ngrok: 31%\n",
            "Downloading ngrok: 32%\n",
            "Downloading ngrok: 33%\n",
            "Downloading ngrok: 34%\n",
            "Downloading ngrok: 35%\n",
            "Downloading ngrok: 36%\n",
            "Downloading ngrok: 37%\n",
            "Downloading ngrok: 38%\n",
            "Downloading ngrok: 39%\n",
            "Downloading ngrok: 40%\n",
            "Downloading ngrok: 41%\n",
            "Downloading ngrok: 42%\n",
            "Downloading ngrok: 43%\n",
            "Downloading ngrok: 44%\n",
            "Downloading ngrok: 45%\n",
            "Downloading ngrok: 46%\n",
            "Downloading ngrok: 47%\n",
            "Downloading ngrok: 48%\n",
            "Downloading ngrok: 49%\n",
            "Downloading ngrok: 50%\n",
            "Downloading ngrok: 51%\n",
            "Downloading ngrok: 52%\n",
            "Downloading ngrok: 53%\n",
            "Downloading ngrok: 54%\n",
            "Downloading ngrok: 55%\n",
            "Downloading ngrok: 56%\n",
            "Downloading ngrok: 57%\n",
            "Downloading ngrok: 58%\n",
            "Downloading ngrok: 59%\n",
            "Downloading ngrok: 60%\n",
            "Downloading ngrok: 61%\n",
            "Downloading ngrok: 62%\n",
            "Downloading ngrok: 63%\n",
            "Downloading ngrok: 64%\n",
            "Downloading ngrok: 65%\n",
            "Downloading ngrok: 66%\n",
            "Downloading ngrok: 67%\n",
            "Downloading ngrok: 68%\n",
            "Downloading ngrok: 69%\n",
            "Downloading ngrok: 70%\n",
            "Downloading ngrok: 71%\n",
            "Downloading ngrok: 72%\n",
            "Downloading ngrok: 73%\n",
            "Downloading ngrok: 74%\n",
            "Downloading ngrok: 75%\n",
            "Downloading ngrok: 76%\n",
            "Downloading ngrok: 77%\n",
            "Downloading ngrok: 78%\n",
            "Downloading ngrok: 79%\n",
            "Downloading ngrok: 80%\n",
            "Downloading ngrok: 81%\n",
            "Downloading ngrok: 82%\n",
            "Downloading ngrok: 83%\n",
            "Downloading ngrok: 84%\n",
            "Downloading ngrok: 85%\n",
            "Downloading ngrok: 86%\n",
            "Downloading ngrok: 87%\n",
            "Downloading ngrok: 88%\n",
            "Downloading ngrok: 89%\n",
            "Downloading ngrok: 90%\n",
            "Downloading ngrok: 91%\n",
            "Downloading ngrok: 92%\n",
            "Downloading ngrok: 93%\n",
            "Downloading ngrok: 94%\n",
            "Downloading ngrok: 95%\n",
            "Downloading ngrok: 96%\n",
            "Downloading ngrok: 97%\n",
            "Downloading ngrok: 98%\n",
            "Downloading ngrok: 99%\n",
            "Downloading ngrok: 100%\n",
            "                                                                                                    \n",
            "Installing ngrok ... \n",
            "                                                                                                    \n"
          ]
        },
        {
          "name": "stderr",
          "output_type": "stream",
          "text": [
            "2025-06-01 11:43:35.895502: I tensorflow/core/util/port.cc:153] oneDNN custom operations are on. You may see slightly different numerical results due to floating-point round-off errors from different computation orders. To turn them off, set the environment variable `TF_ENABLE_ONEDNN_OPTS=0`.\n",
            "2025-06-01 11:43:39.424071: I tensorflow/core/util/port.cc:153] oneDNN custom operations are on. You may see slightly different numerical results due to floating-point round-off errors from different computation orders. To turn them off, set the environment variable `TF_ENABLE_ONEDNN_OPTS=0`.\n",
            "WARNING:tensorflow:From c:\\Python312\\Lib\\site-packages\\tf_keras\\src\\losses.py:2976: The name tf.losses.sparse_softmax_cross_entropy is deprecated. Please use tf.compat.v1.losses.sparse_softmax_cross_entropy instead.\n",
            "\n",
            "t=2025-06-01T11:43:54+0530 lvl=eror msg=\"failed to reconnect session\" obj=tunnels.session err=\"authentication failed: Usage of ngrok requires a verified account and authtoken.\\n\\nSign up for an account: https://dashboard.ngrok.com/signup\\nInstall your authtoken: https://dashboard.ngrok.com/get-started/your-authtoken\\r\\n\\r\\nERR_NGROK_4018\\r\\n\"\n",
            "ERROR:  authentication failed: Usage of ngrok requires a verified account and authtoken.\n",
            "ERROR:  \n",
            "ERROR:  Sign up for an account: https://dashboard.ngrok.com/signup\n",
            "ERROR:  Install your authtoken: https://dashboard.ngrok.com/get-started/your-authtoken\n",
            "ERROR:  \n",
            "ERROR:  ERR_NGROK_4018\n",
            "ERROR:  https://ngrok.com/docs/errors/err_ngrok_4018\n",
            "ERROR:  \n",
            "t=2025-06-01T11:43:54+0530 lvl=eror msg=\"session closing\" obj=tunnels.session err=\"authentication failed: Usage of ngrok requires a verified account and authtoken.\\n\\nSign up for an account: https://dashboard.ngrok.com/signup\\nInstall your authtoken: https://dashboard.ngrok.com/get-started/your-authtoken\\r\\n\\r\\nERR_NGROK_4018\\r\\n\"\n",
            "t=2025-06-01T11:43:54+0530 lvl=eror msg=\"terminating with error\" obj=app err=\"authentication failed: Usage of ngrok requires a verified account and authtoken.\\n\\nSign up for an account: https://dashboard.ngrok.com/signup\\nInstall your authtoken: https://dashboard.ngrok.com/get-started/your-authtoken\\r\\n\\r\\nERR_NGROK_4018\\r\\n\"\n",
            "t=2025-06-01T11:43:54+0530 lvl=crit msg=\"command failed\" err=\"authentication failed: Usage of ngrok requires a verified account and authtoken.\\n\\nSign up for an account: https://dashboard.ngrok.com/signup\\nInstall your authtoken: https://dashboard.ngrok.com/get-started/your-authtoken\\r\\n\\r\\nERR_NGROK_4018\\r\\n\"\n",
            "Traceback (most recent call last):\n",
            "  File \"c:\\Users\\hp\\Desktop\\face-matcher\\app.py\", line 18, in <module>\n",
            "    public_url = ngrok.connect(5000)\n",
            "                 ^^^^^^^^^^^^^^^^^^^\n",
            "  File \"c:\\Python312\\Lib\\site-packages\\pyngrok\\ngrok.py\", line 385, in connect\n",
            "    api_url = get_ngrok_process(pyngrok_config).api_url\n",
            "              ^^^^^^^^^^^^^^^^^^^^^^^^^^^^^^^^^\n",
            "  File \"c:\\Python312\\Lib\\site-packages\\pyngrok\\ngrok.py\", line 203, in get_ngrok_process\n",
            "    return process.get_process(pyngrok_config)\n",
            "           ^^^^^^^^^^^^^^^^^^^^^^^^^^^^^^^^^^^\n",
            "  File \"c:\\Python312\\Lib\\site-packages\\pyngrok\\process.py\", line 271, in get_process\n",
            "    return _start_process(pyngrok_config)\n",
            "           ^^^^^^^^^^^^^^^^^^^^^^^^^^^^^^\n",
            "  File \"c:\\Python312\\Lib\\site-packages\\pyngrok\\process.py\", line 447, in _start_process\n",
            "    raise PyngrokNgrokError(f\"The ngrok process errored on start: {ngrok_process.startup_error}.\",\n",
            "pyngrok.exception.PyngrokNgrokError: The ngrok process errored on start: authentication failed: Usage of ngrok requires a verified account and authtoken.\\n\\nSign up for an account: https://dashboard.ngrok.com/signup\\nInstall your authtoken: https://dashboard.ngrok.com/get-started/your-authtoken\\r\\n\\r\\nERR_NGROK_4018\\r\\n.\n"
          ]
        }
      ],
      "source": [
        "!python app.py"
      ]
    },
    {
      "cell_type": "code",
      "execution_count": 13,
      "metadata": {
        "id": "UIA7D5uBP1GP"
      },
      "outputs": [
        {
          "name": "stderr",
          "output_type": "stream",
          "text": [
            "'ngrok' is not recognized as an internal or external command,\n",
            "operable program or batch file.\n"
          ]
        }
      ],
      "source": [
        "!ngrok config add-authtoken 2xtY0Gs1jm3ZP3vWeGTBbmrwacI_5oixfVHu8yao5FS7RSybu\n",
        "\n"
      ]
    },
    {
      "cell_type": "code",
      "execution_count": null,
      "metadata": {},
      "outputs": [],
      "source": []
    }
  ],
  "metadata": {
    "colab": {
      "provenance": []
    },
    "kernelspec": {
      "display_name": "Python 3",
      "name": "python3"
    },
    "language_info": {
      "codemirror_mode": {
        "name": "ipython",
        "version": 3
      },
      "file_extension": ".py",
      "mimetype": "text/x-python",
      "name": "python",
      "nbconvert_exporter": "python",
      "pygments_lexer": "ipython3",
      "version": "3.12.3"
    }
  },
  "nbformat": 4,
  "nbformat_minor": 0
}
